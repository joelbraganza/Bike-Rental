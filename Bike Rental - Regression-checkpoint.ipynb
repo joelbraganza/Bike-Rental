{
 "cells": [
  {
   "cell_type": "markdown",
   "metadata": {},
   "source": [
    "# Bike Rental - Regression\n"
   ]
  },
  {
   "cell_type": "markdown",
   "metadata": {},
   "source": [
    "The objective of this Case is to Prediction of bike rental count on daily based on the environmental and seasonal settings."
   ]
  },
  {
   "cell_type": "markdown",
   "metadata": {},
   "source": [
    "Let's load the necessary libraries."
   ]
  },
  {
   "cell_type": "code",
   "execution_count": 2,
   "metadata": {},
   "outputs": [],
   "source": [
    "import pandas as pd\n",
    "import numpy as np\n",
    "import seaborn as sns\n",
    "from matplotlib import pyplot as plt"
   ]
  },
  {
   "cell_type": "markdown",
   "metadata": {},
   "source": [
    "Let's have a look at the data."
   ]
  },
  {
   "cell_type": "code",
   "execution_count": 47,
   "metadata": {},
   "outputs": [
    {
     "name": "stdout",
     "output_type": "stream",
     "text": [
      "(731, 16)\n"
     ]
    },
    {
     "data": {
      "text/html": [
       "<div>\n",
       "<style scoped>\n",
       "    .dataframe tbody tr th:only-of-type {\n",
       "        vertical-align: middle;\n",
       "    }\n",
       "\n",
       "    .dataframe tbody tr th {\n",
       "        vertical-align: top;\n",
       "    }\n",
       "\n",
       "    .dataframe thead th {\n",
       "        text-align: right;\n",
       "    }\n",
       "</style>\n",
       "<table border=\"1\" class=\"dataframe\">\n",
       "  <thead>\n",
       "    <tr style=\"text-align: right;\">\n",
       "      <th></th>\n",
       "      <th>instant</th>\n",
       "      <th>dteday</th>\n",
       "      <th>season</th>\n",
       "      <th>yr</th>\n",
       "      <th>mnth</th>\n",
       "      <th>holiday</th>\n",
       "      <th>weekday</th>\n",
       "      <th>workingday</th>\n",
       "      <th>weathersit</th>\n",
       "      <th>temp</th>\n",
       "      <th>atemp</th>\n",
       "      <th>hum</th>\n",
       "      <th>windspeed</th>\n",
       "      <th>casual</th>\n",
       "      <th>registered</th>\n",
       "      <th>cnt</th>\n",
       "    </tr>\n",
       "  </thead>\n",
       "  <tbody>\n",
       "    <tr>\n",
       "      <th>0</th>\n",
       "      <td>1</td>\n",
       "      <td>2011-01-01</td>\n",
       "      <td>1</td>\n",
       "      <td>0</td>\n",
       "      <td>1</td>\n",
       "      <td>0</td>\n",
       "      <td>6</td>\n",
       "      <td>0</td>\n",
       "      <td>2</td>\n",
       "      <td>0.344167</td>\n",
       "      <td>0.363625</td>\n",
       "      <td>0.805833</td>\n",
       "      <td>0.160446</td>\n",
       "      <td>331</td>\n",
       "      <td>654</td>\n",
       "      <td>985</td>\n",
       "    </tr>\n",
       "    <tr>\n",
       "      <th>1</th>\n",
       "      <td>2</td>\n",
       "      <td>2011-01-02</td>\n",
       "      <td>1</td>\n",
       "      <td>0</td>\n",
       "      <td>1</td>\n",
       "      <td>0</td>\n",
       "      <td>0</td>\n",
       "      <td>0</td>\n",
       "      <td>2</td>\n",
       "      <td>0.363478</td>\n",
       "      <td>0.353739</td>\n",
       "      <td>0.696087</td>\n",
       "      <td>0.248539</td>\n",
       "      <td>131</td>\n",
       "      <td>670</td>\n",
       "      <td>801</td>\n",
       "    </tr>\n",
       "    <tr>\n",
       "      <th>2</th>\n",
       "      <td>3</td>\n",
       "      <td>2011-01-03</td>\n",
       "      <td>1</td>\n",
       "      <td>0</td>\n",
       "      <td>1</td>\n",
       "      <td>0</td>\n",
       "      <td>1</td>\n",
       "      <td>1</td>\n",
       "      <td>1</td>\n",
       "      <td>0.196364</td>\n",
       "      <td>0.189405</td>\n",
       "      <td>0.437273</td>\n",
       "      <td>0.248309</td>\n",
       "      <td>120</td>\n",
       "      <td>1229</td>\n",
       "      <td>1349</td>\n",
       "    </tr>\n",
       "    <tr>\n",
       "      <th>3</th>\n",
       "      <td>4</td>\n",
       "      <td>2011-01-04</td>\n",
       "      <td>1</td>\n",
       "      <td>0</td>\n",
       "      <td>1</td>\n",
       "      <td>0</td>\n",
       "      <td>2</td>\n",
       "      <td>1</td>\n",
       "      <td>1</td>\n",
       "      <td>0.200000</td>\n",
       "      <td>0.212122</td>\n",
       "      <td>0.590435</td>\n",
       "      <td>0.160296</td>\n",
       "      <td>108</td>\n",
       "      <td>1454</td>\n",
       "      <td>1562</td>\n",
       "    </tr>\n",
       "    <tr>\n",
       "      <th>4</th>\n",
       "      <td>5</td>\n",
       "      <td>2011-01-05</td>\n",
       "      <td>1</td>\n",
       "      <td>0</td>\n",
       "      <td>1</td>\n",
       "      <td>0</td>\n",
       "      <td>3</td>\n",
       "      <td>1</td>\n",
       "      <td>1</td>\n",
       "      <td>0.226957</td>\n",
       "      <td>0.229270</td>\n",
       "      <td>0.436957</td>\n",
       "      <td>0.186900</td>\n",
       "      <td>82</td>\n",
       "      <td>1518</td>\n",
       "      <td>1600</td>\n",
       "    </tr>\n",
       "  </tbody>\n",
       "</table>\n",
       "</div>"
      ],
      "text/plain": [
       "   instant      dteday  season  yr  mnth  holiday  weekday  workingday  \\\n",
       "0        1  2011-01-01       1   0     1        0        6           0   \n",
       "1        2  2011-01-02       1   0     1        0        0           0   \n",
       "2        3  2011-01-03       1   0     1        0        1           1   \n",
       "3        4  2011-01-04       1   0     1        0        2           1   \n",
       "4        5  2011-01-05       1   0     1        0        3           1   \n",
       "\n",
       "   weathersit      temp     atemp       hum  windspeed  casual  registered  \\\n",
       "0           2  0.344167  0.363625  0.805833   0.160446     331         654   \n",
       "1           2  0.363478  0.353739  0.696087   0.248539     131         670   \n",
       "2           1  0.196364  0.189405  0.437273   0.248309     120        1229   \n",
       "3           1  0.200000  0.212122  0.590435   0.160296     108        1454   \n",
       "4           1  0.226957  0.229270  0.436957   0.186900      82        1518   \n",
       "\n",
       "    cnt  \n",
       "0   985  \n",
       "1   801  \n",
       "2  1349  \n",
       "3  1562  \n",
       "4  1600  "
      ]
     },
     "execution_count": 47,
     "metadata": {},
     "output_type": "execute_result"
    }
   ],
   "source": [
    "df = pd.read_csv(r'D:\\joel\\UDEMY -\\datasets and codes\\Notebooks\\.ipynb_checkpoints\\Bike-Rental-master\\day.csv')\n",
    "print (df.shape)\n",
    "df.head()"
   ]
  },
  {
   "cell_type": "markdown",
   "metadata": {},
   "source": [
    "The data is relatively low: (731, 16) <br>\n",
    "Because 'dteday' is a categorical-object, we will keep only the day-number information as object type."
   ]
  },
  {
   "cell_type": "code",
   "execution_count": 48,
   "metadata": {},
   "outputs": [
    {
     "data": {
      "text/html": [
       "<div>\n",
       "<style scoped>\n",
       "    .dataframe tbody tr th:only-of-type {\n",
       "        vertical-align: middle;\n",
       "    }\n",
       "\n",
       "    .dataframe tbody tr th {\n",
       "        vertical-align: top;\n",
       "    }\n",
       "\n",
       "    .dataframe thead th {\n",
       "        text-align: right;\n",
       "    }\n",
       "</style>\n",
       "<table border=\"1\" class=\"dataframe\">\n",
       "  <thead>\n",
       "    <tr style=\"text-align: right;\">\n",
       "      <th></th>\n",
       "      <th>instant</th>\n",
       "      <th>dteday</th>\n",
       "      <th>season</th>\n",
       "      <th>yr</th>\n",
       "      <th>mnth</th>\n",
       "      <th>holiday</th>\n",
       "      <th>weekday</th>\n",
       "      <th>workingday</th>\n",
       "      <th>weathersit</th>\n",
       "      <th>temp</th>\n",
       "      <th>atemp</th>\n",
       "      <th>hum</th>\n",
       "      <th>windspeed</th>\n",
       "      <th>casual</th>\n",
       "      <th>registered</th>\n",
       "      <th>cnt</th>\n",
       "    </tr>\n",
       "  </thead>\n",
       "  <tbody>\n",
       "    <tr>\n",
       "      <th>29</th>\n",
       "      <td>30</td>\n",
       "      <td>30</td>\n",
       "      <td>1</td>\n",
       "      <td>0</td>\n",
       "      <td>1</td>\n",
       "      <td>0</td>\n",
       "      <td>0</td>\n",
       "      <td>0</td>\n",
       "      <td>1</td>\n",
       "      <td>0.216522</td>\n",
       "      <td>0.250322</td>\n",
       "      <td>0.722174</td>\n",
       "      <td>0.073983</td>\n",
       "      <td>140</td>\n",
       "      <td>956</td>\n",
       "      <td>1096</td>\n",
       "    </tr>\n",
       "    <tr>\n",
       "      <th>640</th>\n",
       "      <td>641</td>\n",
       "      <td>2</td>\n",
       "      <td>4</td>\n",
       "      <td>1</td>\n",
       "      <td>10</td>\n",
       "      <td>0</td>\n",
       "      <td>2</td>\n",
       "      <td>1</td>\n",
       "      <td>3</td>\n",
       "      <td>0.590833</td>\n",
       "      <td>0.542333</td>\n",
       "      <td>0.871667</td>\n",
       "      <td>0.104475</td>\n",
       "      <td>315</td>\n",
       "      <td>4324</td>\n",
       "      <td>4639</td>\n",
       "    </tr>\n",
       "    <tr>\n",
       "      <th>539</th>\n",
       "      <td>540</td>\n",
       "      <td>23</td>\n",
       "      <td>3</td>\n",
       "      <td>1</td>\n",
       "      <td>6</td>\n",
       "      <td>0</td>\n",
       "      <td>6</td>\n",
       "      <td>0</td>\n",
       "      <td>1</td>\n",
       "      <td>0.731667</td>\n",
       "      <td>0.652792</td>\n",
       "      <td>0.534583</td>\n",
       "      <td>0.179721</td>\n",
       "      <td>2657</td>\n",
       "      <td>4801</td>\n",
       "      <td>7458</td>\n",
       "    </tr>\n",
       "    <tr>\n",
       "      <th>331</th>\n",
       "      <td>332</td>\n",
       "      <td>28</td>\n",
       "      <td>4</td>\n",
       "      <td>0</td>\n",
       "      <td>11</td>\n",
       "      <td>0</td>\n",
       "      <td>1</td>\n",
       "      <td>1</td>\n",
       "      <td>1</td>\n",
       "      <td>0.503478</td>\n",
       "      <td>0.490122</td>\n",
       "      <td>0.743043</td>\n",
       "      <td>0.142122</td>\n",
       "      <td>253</td>\n",
       "      <td>3614</td>\n",
       "      <td>3867</td>\n",
       "    </tr>\n",
       "    <tr>\n",
       "      <th>273</th>\n",
       "      <td>274</td>\n",
       "      <td>1</td>\n",
       "      <td>4</td>\n",
       "      <td>0</td>\n",
       "      <td>10</td>\n",
       "      <td>0</td>\n",
       "      <td>6</td>\n",
       "      <td>0</td>\n",
       "      <td>2</td>\n",
       "      <td>0.410000</td>\n",
       "      <td>0.412863</td>\n",
       "      <td>0.753750</td>\n",
       "      <td>0.292296</td>\n",
       "      <td>480</td>\n",
       "      <td>1949</td>\n",
       "      <td>2429</td>\n",
       "    </tr>\n",
       "    <tr>\n",
       "      <th>370</th>\n",
       "      <td>371</td>\n",
       "      <td>6</td>\n",
       "      <td>1</td>\n",
       "      <td>1</td>\n",
       "      <td>1</td>\n",
       "      <td>0</td>\n",
       "      <td>5</td>\n",
       "      <td>1</td>\n",
       "      <td>1</td>\n",
       "      <td>0.334167</td>\n",
       "      <td>0.340267</td>\n",
       "      <td>0.542083</td>\n",
       "      <td>0.167908</td>\n",
       "      <td>307</td>\n",
       "      <td>3791</td>\n",
       "      <td>4098</td>\n",
       "    </tr>\n",
       "    <tr>\n",
       "      <th>528</th>\n",
       "      <td>529</td>\n",
       "      <td>12</td>\n",
       "      <td>2</td>\n",
       "      <td>1</td>\n",
       "      <td>6</td>\n",
       "      <td>0</td>\n",
       "      <td>2</td>\n",
       "      <td>1</td>\n",
       "      <td>2</td>\n",
       "      <td>0.653333</td>\n",
       "      <td>0.597875</td>\n",
       "      <td>0.833333</td>\n",
       "      <td>0.214546</td>\n",
       "      <td>477</td>\n",
       "      <td>4495</td>\n",
       "      <td>4972</td>\n",
       "    </tr>\n",
       "  </tbody>\n",
       "</table>\n",
       "</div>"
      ],
      "text/plain": [
       "     instant dteday  season  yr  mnth  holiday  weekday  workingday  \\\n",
       "29        30     30       1   0     1        0        0           0   \n",
       "640      641      2       4   1    10        0        2           1   \n",
       "539      540     23       3   1     6        0        6           0   \n",
       "331      332     28       4   0    11        0        1           1   \n",
       "273      274      1       4   0    10        0        6           0   \n",
       "370      371      6       1   1     1        0        5           1   \n",
       "528      529     12       2   1     6        0        2           1   \n",
       "\n",
       "     weathersit      temp     atemp       hum  windspeed  casual  registered  \\\n",
       "29            1  0.216522  0.250322  0.722174   0.073983     140         956   \n",
       "640           3  0.590833  0.542333  0.871667   0.104475     315        4324   \n",
       "539           1  0.731667  0.652792  0.534583   0.179721    2657        4801   \n",
       "331           1  0.503478  0.490122  0.743043   0.142122     253        3614   \n",
       "273           2  0.410000  0.412863  0.753750   0.292296     480        1949   \n",
       "370           1  0.334167  0.340267  0.542083   0.167908     307        3791   \n",
       "528           2  0.653333  0.597875  0.833333   0.214546     477        4495   \n",
       "\n",
       "      cnt  \n",
       "29   1096  \n",
       "640  4639  \n",
       "539  7458  \n",
       "331  3867  \n",
       "273  2429  \n",
       "370  4098  \n",
       "528  4972  "
      ]
     },
     "execution_count": 48,
     "metadata": {},
     "output_type": "execute_result"
    }
   ],
   "source": [
    "days = list(df['dteday'])\n",
    "days = [int(d[-2:]) for d in days]\n",
    "df['dteday'] = np.array(days).astype('object')\n",
    "df.sample(7)"
   ]
  },
  {
   "cell_type": "markdown",
   "metadata": {},
   "source": [
    "Let's have look at the datatypes of the variables."
   ]
  },
  {
   "cell_type": "code",
   "execution_count": 27,
   "metadata": {},
   "outputs": [
    {
     "data": {
      "text/plain": [
       "instant         int64\n",
       "dteday         object\n",
       "season          int64\n",
       "yr              int64\n",
       "mnth            int64\n",
       "holiday         int64\n",
       "weekday         int64\n",
       "workingday      int64\n",
       "weathersit      int64\n",
       "temp          float64\n",
       "atemp         float64\n",
       "hum           float64\n",
       "windspeed     float64\n",
       "casual          int64\n",
       "registered      int64\n",
       "cnt             int64\n",
       "dtype: object"
      ]
     },
     "execution_count": 27,
     "metadata": {},
     "output_type": "execute_result"
    }
   ],
   "source": [
    "df.dtypes"
   ]
  },
  {
   "cell_type": "markdown",
   "metadata": {},
   "source": [
    "Looking at the data, we can see 'instant' just seems to be an index, we must remove it. <br>\n",
    "Also, we need to create list of names of categorical & continuous numeric columns."
   ]
  },
  {
   "cell_type": "code",
   "execution_count": 49,
   "metadata": {},
   "outputs": [],
   "source": [
    "df.drop(['instant'],axis=1, inplace=True)\n",
    "\n",
    "cat = ['dteday','season','yr','mnth','holiday','weekday','workingday','weathersit']\n",
    "num = ['temp','atemp','hum','windspeed','casual','registered']\n",
    "fractional = ['temp','atemp','hum','windspeed']\n",
    "\n",
    "for c in cat:\n",
    "    df[c] = df[c].astype('object')"
   ]
  },
  {
   "cell_type": "markdown",
   "metadata": {},
   "source": [
    "Let's make a function that makes a missing data dataframe and sorts the names by highest missing percentages. "
   ]
  },
  {
   "cell_type": "code",
   "execution_count": 50,
   "metadata": {},
   "outputs": [
    {
     "name": "stdout",
     "output_type": "stream",
     "text": [
      "     varaibles  percentage\n",
      "0       dteday         0.0\n",
      "1       season         0.0\n",
      "2           yr         0.0\n",
      "3         mnth         0.0\n",
      "4      holiday         0.0\n",
      "5      weekday         0.0\n",
      "6   workingday         0.0\n",
      "7   weathersit         0.0\n",
      "8         temp         0.0\n",
      "9        atemp         0.0\n",
      "10         hum         0.0\n",
      "11   windspeed         0.0\n",
      "12      casual         0.0\n",
      "13  registered         0.0\n",
      "14         cnt         0.0\n"
     ]
    }
   ],
   "source": [
    "def missing(df):\n",
    "    missing_val = pd.DataFrame(df.isnull().sum())\n",
    "    missing_val = missing_val.reset_index()\n",
    "    missing_val = missing_val.rename(columns={'index':'varaibles',0:'percentage'})\n",
    "    missing_val['percentage'] = (missing_val['percentage']/len(df))*100\n",
    "    missing_val = missing_val.sort_values('percentage',ascending=False)\n",
    "    return missing_val\n",
    "\n",
    "print (missing(df))"
   ]
  },
  {
   "cell_type": "markdown",
   "metadata": {},
   "source": [
    "We can see there are no missing values."
   ]
  },
  {
   "cell_type": "markdown",
   "metadata": {},
   "source": [
    "### Data Visualization"
   ]
  },
  {
   "cell_type": "markdown",
   "metadata": {},
   "source": [
    "Let's visualize the relationship of average count of bike Rental w.r.t every class of a variable."
   ]
  },
  {
   "cell_type": "code",
   "execution_count": 13,
   "metadata": {},
   "outputs": [
    {
     "data": {
      "image/png": "[encoded data removed]",
      "text/plain": [
       "<Figure size 432x288 with 1 Axes>"
      ]
     },
     "metadata": {
      "needs_background": "light"
     },
     "output_type": "display_data"
    },
    {
     "data": {
      "image/png": "[encoded data removed]",
      "text/plain": [
       "<Figure size 432x288 with 1 Axes>"
      ]
     },
     "metadata": {
      "needs_background": "light"
     },
     "output_type": "display_data"
    },
    {
     "data": {
      "image/png": "[encoded data removed]",
      "text/plain": [
       "<Figure size 432x288 with 1 Axes>"
      ]
     },
     "metadata": {
      "needs_background": "light"
     },
     "output_type": "display_data"
    },
    {
     "data": {
      "image/png": "[encoded data removed]",
      "text/plain": [
       "<Figure size 432x288 with 1 Axes>"
      ]
     },
     "metadata": {
      "needs_background": "light"
     },
     "output_type": "display_data"
    },
    {
     "data": {
      "image/png": "[encoded data removed]",
      "text/plain": [
       "<Figure size 432x288 with 1 Axes>"
      ]
     },
     "metadata": {
      "needs_background": "light"
     },
     "output_type": "display_data"
    },
    {
     "data": {
      "image/png": "[encoded data removed]",
      "text/plain": [
       "<Figure size 432x288 with 1 Axes>"
      ]
     },
     "metadata": {
      "needs_background": "light"
     },
     "output_type": "display_data"
    },
    {
     "data": {
      "image/png": "[encoded data removed]",
      "text/plain": [
       "<Figure size 432x288 with 1 Axes>"
      ]
     },
     "metadata": {
      "needs_background": "light"
     },
     "output_type": "display_data"
    },
    {
     "data": {
      "image/png": "[encoded data removed]",
      "text/plain": [
       "<Figure size 432x288 with 1 Axes>"
      ]
     },
     "metadata": {
      "needs_background": "light"
     },
     "output_type": "display_data"
    }
   ],
   "source": [
    "for c in cat:\n",
    "    sns.barplot(x = c,y='cnt',data=df, estimator=np.mean)\n",
    "    plt.show()"
   ]
  },
  {
   "cell_type": "markdown",
   "metadata": {},
   "source": [
    "the average count in 'dteday' varies based on different days of the month. <br>\n",
    "      \"      \"     \" season 1 is low, season 2,3 & 4 show a little higher average bike rental count. <br>\n",
    "      \"      \"     \" year 0 is low and in year 1 is high. <br>\n",
    "The month variable is just a widespread reflection of the season variable itself.<br>\n",
    "It too shows the 3 mmonths corresponding to the season 1 have low average bike rentals with other seasons(months corresponding) to them <br>\n",
    "have bit higher avergae bike rentals. <br>\n",
    "Bike rentals on holiday-1 is lower than when not a holiday - 0 (maybe because people rent a bike to work and don't when they're not) <br>\n",
    "the average bike rental count on weekday varies slightly, much like we can see it in dteday variable but more closely here. <br>\n",
    " \"      \"    \"      \"    \"    \"  workingday-1 is slightly higher than when not a working day-0(same like holiday) <br> \n",
    " \"      \"    \"      \"    \"  varies pretty much in the weather sit variable, this variable should be explain much of the variance in the target cnt. <br>"
   ]
  },
  {
   "cell_type": "markdown",
   "metadata": {},
   "source": [
    "Let's look at the distribution of the continuous variables."
   ]
  },
  {
   "cell_type": "code",
   "execution_count": 17,
   "metadata": {},
   "outputs": [
    {
     "data": {
      "image/png": "[encoded data removed]",
      "text/plain": [
       "<Figure size 432x288 with 1 Axes>"
      ]
     },
     "metadata": {
      "needs_background": "light"
     },
     "output_type": "display_data"
    },
    {
     "name": "stdout",
     "output_type": "stream",
     "text": [
      "\n",
      "\n",
      "\n"
     ]
    },
    {
     "data": {
      "image/png": "[encoded data removed]",
      "text/plain": [
       "<Figure size 432x288 with 1 Axes>"
      ]
     },
     "metadata": {
      "needs_background": "light"
     },
     "output_type": "display_data"
    },
    {
     "name": "stdout",
     "output_type": "stream",
     "text": [
      "\n",
      "\n",
      "\n"
     ]
    },
    {
     "data": {
      "image/png": "[encoded data removed]",
      "text/plain": [
       "<Figure size 432x288 with 1 Axes>"
      ]
     },
     "metadata": {
      "needs_background": "light"
     },
     "output_type": "display_data"
    },
    {
     "name": "stdout",
     "output_type": "stream",
     "text": [
      "\n",
      "\n",
      "\n"
     ]
    },
    {
     "data": {
      "image/png": "[encoded data removed]",
      "text/plain": [
       "<Figure size 432x288 with 1 Axes>"
      ]
     },
     "metadata": {
      "needs_background": "light"
     },
     "output_type": "display_data"
    },
    {
     "name": "stdout",
     "output_type": "stream",
     "text": [
      "\n",
      "\n",
      "\n"
     ]
    },
    {
     "data": {
      "image/png": "[encoded data removed]",
      "text/plain": [
       "<Figure size 432x288 with 1 Axes>"
      ]
     },
     "metadata": {
      "needs_background": "light"
     },
     "output_type": "display_data"
    },
    {
     "name": "stdout",
     "output_type": "stream",
     "text": [
      "\n",
      "\n",
      "\n"
     ]
    },
    {
     "data": {
      "image/png": "[encoded data removed]",
      "text/plain": [
       "<Figure size 432x288 with 1 Axes>"
      ]
     },
     "metadata": {
      "needs_background": "light"
     },
     "output_type": "display_data"
    },
    {
     "name": "stdout",
     "output_type": "stream",
     "text": [
      "\n",
      "\n",
      "\n"
     ]
    }
   ],
   "source": [
    "for col in num:\n",
    "    meanVal,medianVal,stdDev = np.mean(df[col]), np.median(df[col]), np.std(df[col]) \n",
    "    posDev = medianVal + stdDev\n",
    "    negDev = medianVal-stdDev\n",
    "    posDev2nd = medianVal + (2*stdDev)\n",
    "    negDev2nd = medianVal-(2*stdDev)\n",
    "    #df[col].hist()\n",
    "    sns.distplot(df[col],norm_hist=True,color='blue',kde_kws={'label':'KDE'}) # histogram with the kernel-distribution line.\n",
    "    plt.axvline(meanVal, color = 'r', linestyle = 'dashed', linewidth = 2) # plotting mean line\n",
    "    plt.axvline(medianVal,color='b',linewidth=2) # plotting median line\n",
    "    plt.axvline(posDev, color='g', linewidth=2) # plotting positive standard-deviation line\n",
    "    plt.axvline(negDev, color='g', linewidth=2) # plotting negative        \"         \" line\n",
    "    plt.axvline(posDev2nd, color='g', linewidth=2) # plotting 2nd positive standard-deviation line\n",
    "    plt.axvline(negDev2nd, color='g', linewidth=2) # plotting 2nd negative        \"         \" line\n",
    "    plt.show()\n",
    "    print ('\\n\\n')"
   ]
  },
  {
   "cell_type": "markdown",
   "metadata": {},
   "source": [
    "The continuous data seem to pretty normally distributed with mean and median lines being very close and in some cases coinciding. <br>\n",
    "Most of the data is within one standard-deviation both sides of the median. <br>\n",
    "However, the 'casual' variable is skewed more towards the right inspite of majority of the data being in a normal-range. <br>"
   ]
  },
  {
   "cell_type": "markdown",
   "metadata": {},
   "source": [
    "Let's look at the boxplots of these continuous variables."
   ]
  },
  {
   "cell_type": "markdown",
   "metadata": {},
   "source": [
    "### Outlier Analysis"
   ]
  },
  {
   "cell_type": "code",
   "execution_count": 19,
   "metadata": {},
   "outputs": [
    {
     "name": "stdout",
     "output_type": "stream",
     "text": [
      "temp : \n"
     ]
    },
    {
     "data": {
      "image/png": "[encoded data removed]",
      "text/plain": [
       "<Figure size 432x288 with 1 Axes>"
      ]
     },
     "metadata": {
      "needs_background": "light"
     },
     "output_type": "display_data"
    },
    {
     "name": "stdout",
     "output_type": "stream",
     "text": [
      "\n",
      "\n",
      "\n",
      "atemp : \n"
     ]
    },
    {
     "data": {
      "image/png": "[encoded data removed]",
      "text/plain": [
       "<Figure size 432x288 with 1 Axes>"
      ]
     },
     "metadata": {
      "needs_background": "light"
     },
     "output_type": "display_data"
    },
    {
     "name": "stdout",
     "output_type": "stream",
     "text": [
      "\n",
      "\n",
      "\n",
      "hum : \n"
     ]
    },
    {
     "data": {
      "image/png": "[encoded data removed]",
      "text/plain": [
       "<Figure size 432x288 with 1 Axes>"
      ]
     },
     "metadata": {
      "needs_background": "light"
     },
     "output_type": "display_data"
    },
    {
     "name": "stdout",
     "output_type": "stream",
     "text": [
      "\n",
      "\n",
      "\n",
      "windspeed : \n"
     ]
    },
    {
     "data": {
      "image/png": "[encoded data removed]",
      "text/plain": [
       "<Figure size 432x288 with 1 Axes>"
      ]
     },
     "metadata": {
      "needs_background": "light"
     },
     "output_type": "display_data"
    },
    {
     "name": "stdout",
     "output_type": "stream",
     "text": [
      "\n",
      "\n",
      "\n",
      "casual : \n"
     ]
    },
    {
     "data": {
      "image/png": "[encoded data removed]",
      "text/plain": [
       "<Figure size 432x288 with 1 Axes>"
      ]
     },
     "metadata": {
      "needs_background": "light"
     },
     "output_type": "display_data"
    },
    {
     "name": "stdout",
     "output_type": "stream",
     "text": [
      "\n",
      "\n",
      "\n",
      "registered : \n"
     ]
    },
    {
     "data": {
      "image/png": "[encoded data removed]",
      "text/plain": [
       "<Figure size 432x288 with 1 Axes>"
      ]
     },
     "metadata": {
      "needs_background": "light"
     },
     "output_type": "display_data"
    },
    {
     "name": "stdout",
     "output_type": "stream",
     "text": [
      "\n",
      "\n",
      "\n"
     ]
    }
   ],
   "source": [
    "for col in num:\n",
    "    print (col,': ')\n",
    "    plt.boxplot(df[col])\n",
    "    plt.show()\n",
    "    print ('\\n\\n')"
   ]
  },
  {
   "cell_type": "markdown",
   "metadata": {},
   "source": [
    "from the outlier-analyis, we can confirm that:  <br>\n",
    "'hum' variable has some outlier on the lower-side <br>\n",
    "'windspeed' variable also has considerable outliers on the upper-side <br>\n",
    "'casual' variable also has many outliers on the upper-side <br>\n",
    "Let's work on the outlier-removal <br>"
   ]
  },
  {
   "cell_type": "markdown",
   "metadata": {},
   "source": [
    "### Outlier Removal"
   ]
  },
  {
   "cell_type": "code",
   "execution_count": 51,
   "metadata": {},
   "outputs": [
    {
     "name": "stdout",
     "output_type": "stream",
     "text": [
      "outlier-removal of:  temp\n",
      "outlier-removal of:  atemp\n",
      "outlier-removal of:  hum\n",
      "outlier-removal of:  windspeed\n",
      "outlier-removal of:  casual\n",
      "outlier-removal of:  registered\n"
     ]
    },
    {
     "data": {
      "text/html": [
       "<div>\n",
       "<style scoped>\n",
       "    .dataframe tbody tr th:only-of-type {\n",
       "        vertical-align: middle;\n",
       "    }\n",
       "\n",
       "    .dataframe tbody tr th {\n",
       "        vertical-align: top;\n",
       "    }\n",
       "\n",
       "    .dataframe thead th {\n",
       "        text-align: right;\n",
       "    }\n",
       "</style>\n",
       "<table border=\"1\" class=\"dataframe\">\n",
       "  <thead>\n",
       "    <tr style=\"text-align: right;\">\n",
       "      <th></th>\n",
       "      <th>varaibles</th>\n",
       "      <th>percentage</th>\n",
       "    </tr>\n",
       "  </thead>\n",
       "  <tbody>\n",
       "    <tr>\n",
       "      <th>12</th>\n",
       "      <td>casual</td>\n",
       "      <td>6.019152</td>\n",
       "    </tr>\n",
       "    <tr>\n",
       "      <th>11</th>\n",
       "      <td>windspeed</td>\n",
       "      <td>1.778386</td>\n",
       "    </tr>\n",
       "    <tr>\n",
       "      <th>10</th>\n",
       "      <td>hum</td>\n",
       "      <td>0.273598</td>\n",
       "    </tr>\n",
       "    <tr>\n",
       "      <th>0</th>\n",
       "      <td>dteday</td>\n",
       "      <td>0.000000</td>\n",
       "    </tr>\n",
       "    <tr>\n",
       "      <th>1</th>\n",
       "      <td>season</td>\n",
       "      <td>0.000000</td>\n",
       "    </tr>\n",
       "    <tr>\n",
       "      <th>2</th>\n",
       "      <td>yr</td>\n",
       "      <td>0.000000</td>\n",
       "    </tr>\n",
       "    <tr>\n",
       "      <th>3</th>\n",
       "      <td>mnth</td>\n",
       "      <td>0.000000</td>\n",
       "    </tr>\n",
       "    <tr>\n",
       "      <th>4</th>\n",
       "      <td>holiday</td>\n",
       "      <td>0.000000</td>\n",
       "    </tr>\n",
       "    <tr>\n",
       "      <th>5</th>\n",
       "      <td>weekday</td>\n",
       "      <td>0.000000</td>\n",
       "    </tr>\n",
       "    <tr>\n",
       "      <th>6</th>\n",
       "      <td>workingday</td>\n",
       "      <td>0.000000</td>\n",
       "    </tr>\n",
       "    <tr>\n",
       "      <th>7</th>\n",
       "      <td>weathersit</td>\n",
       "      <td>0.000000</td>\n",
       "    </tr>\n",
       "    <tr>\n",
       "      <th>8</th>\n",
       "      <td>temp</td>\n",
       "      <td>0.000000</td>\n",
       "    </tr>\n",
       "    <tr>\n",
       "      <th>9</th>\n",
       "      <td>atemp</td>\n",
       "      <td>0.000000</td>\n",
       "    </tr>\n",
       "    <tr>\n",
       "      <th>13</th>\n",
       "      <td>registered</td>\n",
       "      <td>0.000000</td>\n",
       "    </tr>\n",
       "    <tr>\n",
       "      <th>14</th>\n",
       "      <td>cnt</td>\n",
       "      <td>0.000000</td>\n",
       "    </tr>\n",
       "  </tbody>\n",
       "</table>\n",
       "</div>"
      ],
      "text/plain": [
       "     varaibles  percentage\n",
       "12      casual    6.019152\n",
       "11   windspeed    1.778386\n",
       "10         hum    0.273598\n",
       "0       dteday    0.000000\n",
       "1       season    0.000000\n",
       "2           yr    0.000000\n",
       "3         mnth    0.000000\n",
       "4      holiday    0.000000\n",
       "5      weekday    0.000000\n",
       "6   workingday    0.000000\n",
       "7   weathersit    0.000000\n",
       "8         temp    0.000000\n",
       "9        atemp    0.000000\n",
       "13  registered    0.000000\n",
       "14         cnt    0.000000"
      ]
     },
     "execution_count": 51,
     "metadata": {},
     "output_type": "execute_result"
    }
   ],
   "source": [
    "for col in num:\n",
    "    print ('outlier-removal of: ',col)\n",
    "    q75,q25 = np.percentile(df[col],[75,25])\n",
    "    iqr = q75-q25\n",
    "    maximum = q75 + (iqr*1.5)\n",
    "    minimum = q25 - (iqr*1.5)\n",
    "    df.loc[df[col] > maximum,col]= np.nan # remove outliers on the upper-side\n",
    "    df.loc[df[col] < minimum,col]= np.nan # remove outliers on the lower-side\n",
    "    \n",
    "missing(df)    "
   ]
  },
  {
   "cell_type": "markdown",
   "metadata": {},
   "source": [
    "Let's impute the missing data created by the Outlier-Removal"
   ]
  },
  {
   "cell_type": "markdown",
   "metadata": {},
   "source": [
    "### Data Imputation"
   ]
  },
  {
   "cell_type": "code",
   "execution_count": 52,
   "metadata": {},
   "outputs": [
    {
     "name": "stdout",
     "output_type": "stream",
     "text": [
      "dteday        0.0\n",
      "season        0.0\n",
      "yr            0.0\n",
      "mnth          0.0\n",
      "holiday       0.0\n",
      "weekday       0.0\n",
      "workingday    0.0\n",
      "weathersit    0.0\n",
      "temp          0.0\n",
      "atemp         0.0\n",
      "hum           0.0\n",
      "windspeed     0.0\n",
      "casual        0.0\n",
      "registered    0.0\n",
      "cnt           0.0\n",
      "dtype: float64\n"
     ]
    }
   ],
   "source": [
    "from sklearn.impute import KNNImputer\n",
    "imputer = KNNImputer(n_neighbors=5)\n",
    "df_array = np.array(df)\n",
    "df = pd.DataFrame(data = imputer.fit_transform(df_array),columns = df.columns)\n",
    "\n",
    "for c in [i for i in df.columns[:-1] if i not in fractional]:\n",
    "    df[c] = np.round(df[c])\n",
    "    \n",
    "    \n",
    "print ((df.isnull().sum()/df.shape[0])*100)"
   ]
  },
  {
   "cell_type": "markdown",
   "metadata": {},
   "source": [
    "Let's normalize the numeric-continuos data before we do any further analysis or modelling."
   ]
  },
  {
   "cell_type": "code",
   "execution_count": 53,
   "metadata": {},
   "outputs": [
    {
     "data": {
      "text/html": [
       "<div>\n",
       "<style scoped>\n",
       "    .dataframe tbody tr th:only-of-type {\n",
       "        vertical-align: middle;\n",
       "    }\n",
       "\n",
       "    .dataframe tbody tr th {\n",
       "        vertical-align: top;\n",
       "    }\n",
       "\n",
       "    .dataframe thead th {\n",
       "        text-align: right;\n",
       "    }\n",
       "</style>\n",
       "<table border=\"1\" class=\"dataframe\">\n",
       "  <thead>\n",
       "    <tr style=\"text-align: right;\">\n",
       "      <th></th>\n",
       "      <th>temp</th>\n",
       "      <th>atemp</th>\n",
       "      <th>hum</th>\n",
       "      <th>windspeed</th>\n",
       "      <th>casual</th>\n",
       "      <th>registered</th>\n",
       "    </tr>\n",
       "  </thead>\n",
       "  <tbody>\n",
       "    <tr>\n",
       "      <th>437</th>\n",
       "      <td>0.630338</td>\n",
       "      <td>0.608878</td>\n",
       "      <td>0.505800</td>\n",
       "      <td>0.603173</td>\n",
       "      <td>0.336879</td>\n",
       "      <td>0.731302</td>\n",
       "    </tr>\n",
       "    <tr>\n",
       "      <th>269</th>\n",
       "      <td>0.719639</td>\n",
       "      <td>0.650352</td>\n",
       "      <td>0.878771</td>\n",
       "      <td>0.269258</td>\n",
       "      <td>0.210550</td>\n",
       "      <td>0.523101</td>\n",
       "    </tr>\n",
       "    <tr>\n",
       "      <th>698</th>\n",
       "      <td>0.276298</td>\n",
       "      <td>0.287930</td>\n",
       "      <td>0.419701</td>\n",
       "      <td>0.261811</td>\n",
       "      <td>0.106826</td>\n",
       "      <td>0.730580</td>\n",
       "    </tr>\n",
       "    <tr>\n",
       "      <th>27</th>\n",
       "      <td>0.179864</td>\n",
       "      <td>0.189344</td>\n",
       "      <td>0.750176</td>\n",
       "      <td>0.283676</td>\n",
       "      <td>0.015957</td>\n",
       "      <td>0.160121</td>\n",
       "    </tr>\n",
       "    <tr>\n",
       "      <th>730</th>\n",
       "      <td>0.195259</td>\n",
       "      <td>0.189567</td>\n",
       "      <td>0.450116</td>\n",
       "      <td>0.372359</td>\n",
       "      <td>0.193706</td>\n",
       "      <td>0.327751</td>\n",
       "    </tr>\n",
       "    <tr>\n",
       "      <th>541</th>\n",
       "      <td>0.818284</td>\n",
       "      <td>0.754729</td>\n",
       "      <td>0.348028</td>\n",
       "      <td>0.781497</td>\n",
       "      <td>0.503989</td>\n",
       "      <td>0.811435</td>\n",
       "    </tr>\n",
       "  </tbody>\n",
       "</table>\n",
       "</div>"
      ],
      "text/plain": [
       "         temp     atemp       hum  windspeed    casual  registered\n",
       "437  0.630338  0.608878  0.505800   0.603173  0.336879    0.731302\n",
       "269  0.719639  0.650352  0.878771   0.269258  0.210550    0.523101\n",
       "698  0.276298  0.287930  0.419701   0.261811  0.106826    0.730580\n",
       "27   0.179864  0.189344  0.750176   0.283676  0.015957    0.160121\n",
       "730  0.195259  0.189567  0.450116   0.372359  0.193706    0.327751\n",
       "541  0.818284  0.754729  0.348028   0.781497  0.503989    0.811435"
      ]
     },
     "execution_count": 53,
     "metadata": {},
     "output_type": "execute_result"
    }
   ],
   "source": [
    "for c in num:\n",
    "    df[c] = (df[c]-min(df[c]))/(max(df[c])-min(df[c]))\n",
    "    \n",
    "df[num].sample(6)    "
   ]
  },
  {
   "cell_type": "markdown",
   "metadata": {},
   "source": [
    "Let's perform some feature relation tests w.r.t the target 'cnt'"
   ]
  },
  {
   "cell_type": "markdown",
   "metadata": {},
   "source": [
    "### Correlation Heatmap - continuous data."
   ]
  },
  {
   "cell_type": "code",
   "execution_count": 54,
   "metadata": {},
   "outputs": [
    {
     "data": {
      "image/png": "[encoded data removed]",
      "text/plain": [
       "<Figure size 720x720 with 2 Axes>"
      ]
     },
     "metadata": {
      "needs_background": "light"
     },
     "output_type": "display_data"
    }
   ],
   "source": [
    "df_corr = df.loc[:,(num+['cnt'])]\n",
    "corr = df_corr.corr()\n",
    "f, ax = plt.subplots(figsize=(10, 10))\n",
    "sns.heatmap(corr, mask=np.zeros_like(corr, dtype=np.bool), cmap=sns.diverging_palette(220, 10, as_cmap=True),annot=True,\n",
    "            square=True, ax=ax)\n",
    "plt.show()\n",
    "\n"
   ]
  },
  {
   "cell_type": "markdown",
   "metadata": {},
   "source": [
    "correlation plot shows 'atemp' and 'temp' are highly correlated to each other, we can decide to remove one of these for the sake of collinearity<br>\n",
    "from the heatmap we can see that 'registered' has a very strong linear-relationship with the target 'cnt' variable <br>\n",
    "also 'casual' variable has a decent linear-relationship with the target, on exploring the 2 variables: casual & registered,<br>\n",
    "we realize that casual + registered=cnt. <br>\n",
    "we can assume that therefore lienar-regression might play a big role in predicting the target variable accurately. <br>"
   ]
  },
  {
   "cell_type": "code",
   "execution_count": 55,
   "metadata": {},
   "outputs": [
    {
     "name": "stdout",
     "output_type": "stream",
     "text": [
      "Index(['dteday', 'season', 'yr', 'mnth', 'holiday', 'weekday', 'workingday',\n",
      "       'weathersit', 'temp', 'hum', 'windspeed', 'casual', 'registered',\n",
      "       'cnt'],\n",
      "      dtype='object')\n"
     ]
    }
   ],
   "source": [
    "df.drop(['atemp'],axis=1, inplace=True)\n",
    "num.remove('atemp') # removed name from categorical-list\n",
    "print (df.columns)"
   ]
  },
  {
   "cell_type": "markdown",
   "metadata": {},
   "source": [
    "### ANOVA test"
   ]
  },
  {
   "cell_type": "markdown",
   "metadata": {},
   "source": [
    "The ANOVA test shows all the categorical-variables have a relationship to the target continuous variable"
   ]
  },
  {
   "cell_type": "code",
   "execution_count": 58,
   "metadata": {},
   "outputs": [
    {
     "name": "stdout",
     "output_type": "stream",
     "text": [
      "important:  ['dteday', 'season', 'yr', 'mnth', 'holiday', 'weekday', 'workingday', 'weathersit']\n",
      "unimportant:  []\n"
     ]
    }
   ],
   "source": [
    "\n",
    "from scipy import stats\n",
    "\n",
    "ANOVA_related=[]\n",
    "ANOVA_unrelated=[]\n",
    "\n",
    "for col in cat:\n",
    "    fStat, pVal = stats.f_oneway(df[col], df['cnt'])\n",
    "    #print(col,' P-value: ',pVal,' f-statistic: ',fStat)\n",
    "    if pVal<0.05:\n",
    "        ANOVA_related.append(col)\n",
    "    else:\n",
    "        ANOVA_unrelated.append(col)\n",
    "\n",
    "print ('important: ',ANOVA_related)\n",
    "print ('unimportant: ',ANOVA_unrelated)"
   ]
  },
  {
   "cell_type": "markdown",
   "metadata": {},
   "source": [
    "### ExtraTreesRegressor"
   ]
  },
  {
   "cell_type": "code",
   "execution_count": 59,
   "metadata": {},
   "outputs": [
    {
     "name": "stdout",
     "output_type": "stream",
     "text": [
      "[0.00086032 0.02446753 0.126411   0.00319335 0.00089901 0.00159832\n",
      " 0.01700324 0.00211916 0.04513604 0.0016114  0.00113508 0.17661752\n",
      " 0.59894803]\n"
     ]
    },
    {
     "data": {
      "image/png": "[encoded data removed]",
      "text/plain": [
       "<Figure size 432x288 with 1 Axes>"
      ]
     },
     "metadata": {
      "needs_background": "light"
     },
     "output_type": "display_data"
    }
   ],
   "source": [
    "# Let's perform couple of more tests\n",
    "# Let's perform a feature importance test\n",
    "# this test gives you a score for each feature of your data, the higher score shows more importance/relevance \n",
    "# of that feature towards your target variable\n",
    "# it uses a tree-based classifiers approach\n",
    "\n",
    "from matplotlib import pyplot as plt\n",
    "import seaborn as sns\n",
    "from sklearn.ensemble import ExtraTreesRegressor\n",
    "\n",
    "X = df.iloc[:,:-1]\n",
    "y = df['cnt']\n",
    "importances = ExtraTreesRegressor().fit(X,y)\n",
    "print (importances.feature_importances_)\n",
    "\n",
    "# Let's look at the scores visually\n",
    "\n",
    "values = pd.Series(importances.feature_importances_, index = df.columns[:-1])\n",
    "values.nlargest(df.shape[1]-1).plot(kind='bar')\n",
    "plt.figsize=(10,15)\n",
    "plt.show()\n",
    "# registered shows highest importance in predicting the target 'cnt'\n",
    "# casual shows some, not highly, followed by year, temp, workingday in a much lower manner.\n",
    "# the variables month,hum,weekday,weathersit,windspeed,holiday,dteday are shown to have negligible importances.\n",
    "# Let's perform 2 more importance/feature selections tests to see if it's true."
   ]
  },
  {
   "cell_type": "markdown",
   "metadata": {},
   "source": [
    "We'll select the last 7 variable with negligible to 0 importance for the unimportant list."
   ]
  },
  {
   "cell_type": "code",
   "execution_count": 63,
   "metadata": {},
   "outputs": [
    {
     "data": {
      "text/plain": [
       "['dteday', 'holiday', 'windspeed', 'weekday', 'hum', 'weathersit', 'mnth']"
      ]
     },
     "execution_count": 63,
     "metadata": {},
     "output_type": "execute_result"
    }
   ],
   "source": [
    "ET_unimportant = list(values.nsmallest(7).index)\n",
    "ET_unimportant"
   ]
  },
  {
   "cell_type": "markdown",
   "metadata": {},
   "source": [
    "### Linear regression Feature importance"
   ]
  },
  {
   "cell_type": "code",
   "execution_count": 61,
   "metadata": {},
   "outputs": [
    {
     "name": "stdout",
     "output_type": "stream",
     "text": [
      "[ True  True  True False False  True  True  True  True False  True  True\n",
      "  True]\n",
      "important:  ['dteday', 'season', 'yr', 'weekday', 'workingday', 'weathersit', 'temp', 'windspeed', 'casual', 'registered']\n",
      "not-important:  ['mnth', 'holiday', 'hum']\n"
     ]
    }
   ],
   "source": [
    "# source: https://towardsdatascience.com/feature-selection-using-regularisation-a3678b71e499\n",
    "from sklearn.linear_model import Lasso, LinearRegression # Lasso is L1 regularization\n",
    "from sklearn.feature_selection import SelectFromModel\n",
    "\n",
    "# fitting the feature selection model with the Logistic regression data\n",
    "sel_ = SelectFromModel(Lasso(alpha=0.3))\n",
    "\n",
    "sel_.fit(df.iloc[:,:-1], df['cnt'])\n",
    "#sel_.fit(df[numeric], df['Class'])\n",
    "\n",
    "# Visualising features that were kept by the lasso regularisation\n",
    "print (sel_.get_support())\n",
    "\n",
    "#  So True is for the features that lasso thought is important (non-zero features) \n",
    "# while False is for the features whose weights were shrinked to zero and are not important according to Lasso.\n",
    "\n",
    "\n",
    "LR_important = list(df.iloc[:,:-1].columns[(sel_.get_support())]) # gives the remaining features\n",
    "LR_unimportant = [i for i in df.columns[:-1] if i not in LR_important]\n",
    "\n",
    "print ('important: ',LR_important)\n",
    "print ('not-important: ',LR_unimportant)"
   ]
  },
  {
   "cell_type": "markdown",
   "metadata": {},
   "source": [
    "### Random Forest Feature importance"
   ]
  },
  {
   "cell_type": "code",
   "execution_count": 62,
   "metadata": {},
   "outputs": [
    {
     "name": "stdout",
     "output_type": "stream",
     "text": [
      "[ True  True  True False False  True  True  True  True False  True  True\n",
      "  True]\n",
      "important:  ['dteday', 'season', 'yr', 'weekday', 'workingday', 'weathersit', 'temp', 'windspeed', 'casual', 'registered']\n",
      "not-important:  ['mnth', 'holiday', 'hum']\n"
     ]
    }
   ],
   "source": [
    "# source: https://towardsdatascience.com/feature-selection-using-random-forest-26d7b747597f\n",
    "from sklearn.ensemble import RandomForestRegressor \n",
    "from sklearn.feature_selection import SelectFromModel\n",
    "\n",
    "# fitting the feature selection model with the random forest regression data\n",
    "sel = SelectFromModel(RandomForestRegressor(n_estimators = 100))\n",
    "\n",
    "sel_.fit(df.iloc[:,:-1], df['cnt'])\n",
    "#sel_.fit(df[numeric], df['Class'])\n",
    "\n",
    "# Visualising features that were kept by the lasso regularisation\n",
    "print (sel_.get_support())\n",
    "\n",
    "#  So True is for the features that trees have voted to be important \n",
    "# while False is for the features voted on average to be not necessary\n",
    "\n",
    "\n",
    "RF_important = list(df.iloc[:,:-1].columns[(sel_.get_support())]) # gives the remaining features\n",
    "RF_unimportant = [i for i in df.columns[:-1] if i not in RF_important]\n",
    "\n",
    "print ('important: ',RF_important)\n",
    "print ('not-important: ',RF_unimportant)"
   ]
  },
  {
   "cell_type": "markdown",
   "metadata": {},
   "source": [
    "### L1 feature importance"
   ]
  },
  {
   "cell_type": "code",
   "execution_count": 64,
   "metadata": {},
   "outputs": [
    {
     "name": "stdout",
     "output_type": "stream",
     "text": [
      "[ True  True  True False False  True  True  True  True False  True  True\n",
      "  True]\n",
      "important:  ['dteday', 'season', 'yr', 'weekday', 'workingday', 'weathersit', 'temp', 'windspeed', 'casual', 'registered']\n",
      "unimportant:  ['mnth', 'holiday', 'hum']\n"
     ]
    }
   ],
   "source": [
    "from sklearn.linear_model import Lasso, LinearRegression \n",
    "from sklearn.feature_selection import SelectFromModel\n",
    "\n",
    "\n",
    "sel_ = SelectFromModel(Lasso(alpha=0.3))\n",
    "\n",
    "sel_.fit(X,y)\n",
    "#sel_.fit(df[numeric], df['Class'])\n",
    "\n",
    "# Visualising features that were kept by the lasso regularisation\n",
    "print (sel_.get_support())\n",
    "\n",
    "#  So True is for the features that lasso thought is important (non-zero features) \n",
    "# while False is for the features whose weights were shrinked to zero and are not important according to Lasso.\n",
    "\n",
    "\n",
    "L1_important = list(X.columns[(sel_.get_support())]) # gives the remaining features\n",
    "L1_unimportant = [i for i in X.columns if i not in L1_important]\n",
    "print ('important: ',L1_important)\n",
    "print ('unimportant: ',L1_unimportant)"
   ]
  },
  {
   "cell_type": "markdown",
   "metadata": {},
   "source": [
    "Except ANOVA test, all the other tests said 'mnth', 'holiday', 'hum' as unimportant. <br>\n",
    "We too saw in the visualization that 'casual'& 'registered' were the most important variables. <br>\n",
    "Let's remove the unimportant variables before we model the data."
   ]
  },
  {
   "cell_type": "code",
   "execution_count": 65,
   "metadata": {},
   "outputs": [
    {
     "name": "stdout",
     "output_type": "stream",
     "text": [
      "(731, 11)\n"
     ]
    },
    {
     "data": {
      "text/html": [
       "<div>\n",
       "<style scoped>\n",
       "    .dataframe tbody tr th:only-of-type {\n",
       "        vertical-align: middle;\n",
       "    }\n",
       "\n",
       "    .dataframe tbody tr th {\n",
       "        vertical-align: top;\n",
       "    }\n",
       "\n",
       "    .dataframe thead th {\n",
       "        text-align: right;\n",
       "    }\n",
       "</style>\n",
       "<table border=\"1\" class=\"dataframe\">\n",
       "  <thead>\n",
       "    <tr style=\"text-align: right;\">\n",
       "      <th></th>\n",
       "      <th>dteday</th>\n",
       "      <th>season</th>\n",
       "      <th>yr</th>\n",
       "      <th>weekday</th>\n",
       "      <th>workingday</th>\n",
       "      <th>weathersit</th>\n",
       "      <th>temp</th>\n",
       "      <th>windspeed</th>\n",
       "      <th>casual</th>\n",
       "      <th>registered</th>\n",
       "      <th>cnt</th>\n",
       "    </tr>\n",
       "  </thead>\n",
       "  <tbody>\n",
       "    <tr>\n",
       "      <th>90</th>\n",
       "      <td>1.0</td>\n",
       "      <td>2.0</td>\n",
       "      <td>0.0</td>\n",
       "      <td>5.0</td>\n",
       "      <td>1.0</td>\n",
       "      <td>2.0</td>\n",
       "      <td>0.300135</td>\n",
       "      <td>0.664339</td>\n",
       "      <td>0.135195</td>\n",
       "      <td>0.274329</td>\n",
       "      <td>2227.0</td>\n",
       "    </tr>\n",
       "    <tr>\n",
       "      <th>323</th>\n",
       "      <td>20.0</td>\n",
       "      <td>4.0</td>\n",
       "      <td>0.0</td>\n",
       "      <td>0.0</td>\n",
       "      <td>0.0</td>\n",
       "      <td>2.0</td>\n",
       "      <td>0.503656</td>\n",
       "      <td>0.459800</td>\n",
       "      <td>0.347961</td>\n",
       "      <td>0.391712</td>\n",
       "      <td>3520.0</td>\n",
       "    </tr>\n",
       "    <tr>\n",
       "      <th>377</th>\n",
       "      <td>13.0</td>\n",
       "      <td>1.0</td>\n",
       "      <td>1.0</td>\n",
       "      <td>5.0</td>\n",
       "      <td>1.0</td>\n",
       "      <td>1.0</td>\n",
       "      <td>0.267946</td>\n",
       "      <td>1.000000</td>\n",
       "      <td>0.076241</td>\n",
       "      <td>0.436038</td>\n",
       "      <td>3214.0</td>\n",
       "    </tr>\n",
       "    <tr>\n",
       "      <th>86</th>\n",
       "      <td>28.0</td>\n",
       "      <td>2.0</td>\n",
       "      <td>0.0</td>\n",
       "      <td>1.0</td>\n",
       "      <td>1.0</td>\n",
       "      <td>1.0</td>\n",
       "      <td>0.255711</td>\n",
       "      <td>0.533606</td>\n",
       "      <td>0.097518</td>\n",
       "      <td>0.257869</td>\n",
       "      <td>2028.0</td>\n",
       "    </tr>\n",
       "    <tr>\n",
       "      <th>48</th>\n",
       "      <td>18.0</td>\n",
       "      <td>1.0</td>\n",
       "      <td>0.0</td>\n",
       "      <td>5.0</td>\n",
       "      <td>1.0</td>\n",
       "      <td>1.0</td>\n",
       "      <td>0.576343</td>\n",
       "      <td>0.681817</td>\n",
       "      <td>0.255762</td>\n",
       "      <td>0.336125</td>\n",
       "      <td>2927.0</td>\n",
       "    </tr>\n",
       "  </tbody>\n",
       "</table>\n",
       "</div>"
      ],
      "text/plain": [
       "     dteday  season   yr  weekday  workingday  weathersit      temp  \\\n",
       "90      1.0     2.0  0.0      5.0         1.0         2.0  0.300135   \n",
       "323    20.0     4.0  0.0      0.0         0.0         2.0  0.503656   \n",
       "377    13.0     1.0  1.0      5.0         1.0         1.0  0.267946   \n",
       "86     28.0     2.0  0.0      1.0         1.0         1.0  0.255711   \n",
       "48     18.0     1.0  0.0      5.0         1.0         1.0  0.576343   \n",
       "\n",
       "     windspeed    casual  registered     cnt  \n",
       "90    0.664339  0.135195    0.274329  2227.0  \n",
       "323   0.459800  0.347961    0.391712  3520.0  \n",
       "377   1.000000  0.076241    0.436038  3214.0  \n",
       "86    0.533606  0.097518    0.257869  2028.0  \n",
       "48    0.681817  0.255762    0.336125  2927.0  "
      ]
     },
     "execution_count": 65,
     "metadata": {},
     "output_type": "execute_result"
    }
   ],
   "source": [
    "df.drop(['mnth', 'holiday', 'hum'], axis=1, inplace=True)\n",
    "print (df.shape)\n",
    "df.sample(5)"
   ]
  },
  {
   "cell_type": "markdown",
   "metadata": {
    "collapsed": true
   },
   "source": [
    "Let's split the data into train & test."
   ]
  },
  {
   "cell_type": "code",
   "execution_count": 67,
   "metadata": {},
   "outputs": [
    {
     "name": "stdout",
     "output_type": "stream",
     "text": [
      "(584, 10) (584,)\n",
      "(147, 10) (147,)\n"
     ]
    }
   ],
   "source": [
    "from sklearn.model_selection import train_test_split\n",
    "\n",
    "X_train,X_test,Y_train,Y_test = train_test_split(df.iloc[:,:-1],df.iloc[:,-1],test_size=0.2) # df split\n",
    "print (X_train.shape,Y_train.shape)\n",
    "print (X_test.shape, Y_test.shape)"
   ]
  },
  {
   "cell_type": "markdown",
   "metadata": {},
   "source": [
    "Define the function for various regression metrics."
   ]
  },
  {
   "cell_type": "code",
   "execution_count": 70,
   "metadata": {},
   "outputs": [],
   "source": [
    "from sklearn.metrics import mean_squared_error,mean_absolute_error,r2_score\n",
    "\n",
    "def MAPE(y_true,preds):\n",
    "    values=[]\n",
    "    for (x,y) in zip(list(y_true),list(preds)):\n",
    "        if x==0:\n",
    "            values.append(abs(y)) # otherwise you get ZeroDivisionError: as 0-y/0 is not defined\n",
    "        else:    \n",
    "            values.append((abs(x-y)/x))\n",
    "    return (sum(values)/100)*len(values)\n",
    "\n",
    "\n",
    "\n",
    "def error_metrics(Y_test,test_preds):    \n",
    "    rmse_test = np.sqrt(mean_squared_error(Y_test,test_preds))\n",
    "    print(\"RMSE = \"+str(rmse_test))\n",
    "    print ('MAPE: ',MAPE(Y_test,test_preds))\n",
    "    print ('MAE: ',mean_absolute_error(Y_test,test_preds))\n",
    "    print(\"R-square Score(coefficient of determination) = \"+str(r2_score(Y_test,test_preds)))"
   ]
  },
  {
   "cell_type": "markdown",
   "metadata": {},
   "source": [
    "### Linear regression"
   ]
  },
  {
   "cell_type": "code",
   "execution_count": 71,
   "metadata": {},
   "outputs": [
    {
     "name": "stdout",
     "output_type": "stream",
     "text": [
      "RMSE = 172.52389891665496\n",
      "MAPE:  4.079850483296055\n",
      "MAE:  88.05670433915783\n",
      "R-square Score(coefficient of determination) = 0.9923526135872385\n",
      "None\n"
     ]
    }
   ],
   "source": [
    "from sklearn.linear_model import LinearRegression\n",
    "\n",
    "# OLS is the method which helps to calculate the co-efficients: b0, b1, b2, b3 and so on.\n",
    "model = LinearRegression().fit(X_train, Y_train) \n",
    "LR_preds = model.predict(X_test)\n",
    "print (error_metrics(Y_test,(LR_preds)))\n",
    "\n"
   ]
  },
  {
   "cell_type": "markdown",
   "metadata": {},
   "source": [
    "### Decision Tree Regressor"
   ]
  },
  {
   "cell_type": "code",
   "execution_count": 72,
   "metadata": {},
   "outputs": [
    {
     "name": "stdout",
     "output_type": "stream",
     "text": [
      "RMSE = 281.2286454478067\n",
      "MAPE:  9.093571533894254\n",
      "MAE:  165.3469387755102\n",
      "R-square Score(coefficient of determination) = 0.9796795361825119\n",
      "None\n"
     ]
    }
   ],
   "source": [
    "from sklearn.tree import DecisionTreeRegressor\n",
    "DT_model = DecisionTreeRegressor().fit(X_train,Y_train)\n",
    "DT_preds = DT_model.predict(X_test)\n",
    "print(error_metrics(Y_test,DT_preds))"
   ]
  },
  {
   "cell_type": "markdown",
   "metadata": {},
   "source": [
    "### RandomForest Regressor"
   ]
  },
  {
   "cell_type": "code",
   "execution_count": 73,
   "metadata": {},
   "outputs": [
    {
     "name": "stdout",
     "output_type": "stream",
     "text": [
      "RMSE = 152.81675075358837\n",
      "MAPE:  5.090485546730902\n",
      "MAE:  92.38782312925167\n",
      "R-square Score(coefficient of determination) = 0.9939999284534357\n"
     ]
    }
   ],
   "source": [
    "from sklearn.ensemble import RandomForestRegressor\n",
    "RF_model = RandomForestRegressor().fit(X_train,Y_train)\n",
    "RF_preds = RF_model.predict(X_test)\n",
    "error_metrics(Y_test,RF_preds)"
   ]
  },
  {
   "cell_type": "markdown",
   "metadata": {},
   "source": [
    "### K-Nearest-Neighbors Regressor"
   ]
  },
  {
   "cell_type": "code",
   "execution_count": 74,
   "metadata": {},
   "outputs": [
    {
     "name": "stdout",
     "output_type": "stream",
     "text": [
      "RMSE = 1305.7328642004309\n",
      "MAPE:  84.58775608080748\n",
      "MAE:  1071.3020408163268\n",
      "R-square Score(coefficient of determination) = 0.5619505124719204\n"
     ]
    }
   ],
   "source": [
    "from sklearn.neighbors import KNeighborsRegressor\n",
    "K_model = KNeighborsRegressor().fit(X_train,Y_train)\n",
    "K_preds = K_model.predict(X_test)\n",
    "error_metrics(Y_test,K_preds)"
   ]
  },
  {
   "cell_type": "markdown",
   "metadata": {},
   "source": [
    "### Support Vector Machines - Regression"
   ]
  },
  {
   "cell_type": "code",
   "execution_count": 75,
   "metadata": {},
   "outputs": [
    {
     "name": "stdout",
     "output_type": "stream",
     "text": [
      "RMSE = 1801.0668024426943\n",
      "MAPE:  119.68901094300581\n",
      "MAE:  1495.305065071026\n",
      "R-square Score(coefficient of determination) = 0.16656036659906293\n"
     ]
    }
   ],
   "source": [
    "from sklearn.svm import SVR\n",
    "SVR_model = SVR(kernel='linear').fit(X_train,Y_train)\n",
    "SVR_preds = SVR_model.predict(X_test)\n",
    "error_metrics(Y_test,SVR_preds)"
   ]
  },
  {
   "cell_type": "markdown",
   "metadata": {},
   "source": [
    "### Neural Network"
   ]
  },
  {
   "cell_type": "markdown",
   "metadata": {},
   "source": [
    "Let's create a Neural-network model and use K-fold cross validation for it's training over our short dataset."
   ]
  },
  {
   "cell_type": "code",
   "execution_count": 76,
   "metadata": {},
   "outputs": [],
   "source": [
    "from keras import models\n",
    "from keras import layers"
   ]
  },
  {
   "cell_type": "markdown",
   "metadata": {},
   "source": [
    "because the dataset is too small, we need to apply k-fold cross validation over this dataset\n",
    "because less dataset can cause more overfitting and creating a validation data out of such small dataset would only capture \n",
    "small variance of the entire dataset and then checking the error metrics of the model over such validation data would not yield good results\n",
    "create a function that returns a model designed as per our feature and problem requirements"
   ]
  },
  {
   "cell_type": "code",
   "execution_count": 91,
   "metadata": {},
   "outputs": [],
   "source": [
    "def build_model():\n",
    "    model = models.Sequential()\n",
    "    model.add(layers.Dense(32, activation='relu', input_dim=10))\n",
    "    model.add(layers.Dense(64, activation='relu'))\n",
    "    model.add(layers.Dense(1, activation='linear')) # because of regression\n",
    "    # defining the optimizer and loss and accuracy parameters\n",
    "    model.compile(optimizer='rmsprop',loss='mean_squared_error',metrics=['mean_absolute_error'])\n",
    "    return model"
   ]
  },
  {
   "cell_type": "markdown",
   "metadata": {},
   "source": [
    "Let's create another split to make validation dataset for the neural-network & the k-fold."
   ]
  },
  {
   "cell_type": "markdown",
   "metadata": {},
   "source": [
    "### K-fold cross validation"
   ]
  },
  {
   "cell_type": "code",
   "execution_count": 92,
   "metadata": {},
   "outputs": [
    {
     "name": "stdout",
     "output_type": "stream",
     "text": [
      "processing fold # 0\n",
      "processing fold # 1\n",
      "processing fold # 2\n",
      "processing fold # 3\n",
      "mean - test loss:  200657.82421875 \n",
      " mean - test accuracy:  332.0937957763672\n",
      "RMSE = 430.7219299645433\n",
      "MAPE:  20.89869424545533\n",
      "MAE:  316.4421768707483\n",
      "R-square Score(coefficient of determination) = 0.9523340256661654\n",
      "None\n"
     ]
    },
    {
     "data": {
      "image/png": "[encoded data removed]",
      "text/plain": [
       "<Figure size 432x288 with 1 Axes>"
      ]
     },
     "metadata": {
      "needs_background": "light"
     },
     "output_type": "display_data"
    }
   ],
   "source": [
    "k = 4\n",
    "num_val_samples = len(X_train) // k\n",
    "num_epochs = 50\n",
    "all_scores = []\n",
    "loss = np.array([0*num_epochs])\n",
    "val_loss = np.array([0*num_epochs])\n",
    "\n",
    "# creating a loop for seperating training and validation data for every fold and storing their respective loss and accuracy values\n",
    "for i in range(k):\n",
    "    print('processing fold #', i)\n",
    "    xval = X_train[i * num_val_samples: (i + 1) * num_val_samples]\n",
    "    yval = Y_train[i * num_val_samples: (i + 1) * num_val_samples]\n",
    "    partial_train_data = np.concatenate([X_train[:i * num_val_samples],X_train[(i + 1) * num_val_samples:]],axis=0)\n",
    "    partial_train_targets = np.concatenate([Y_train[:i * num_val_samples],Y_train[(i + 1) * num_val_samples:]],axis=0)\n",
    "    model = build_model()\n",
    "    history =  model.fit(partial_train_data, partial_train_targets,epochs=num_epochs, batch_size=1, validation_data =(xval,yval),verbose=0) # with batch=1 we are going 'sgd'\n",
    "    # has values training and validation loss\n",
    "    loss = np.add(loss,history.history['loss'])\n",
    "    val_loss = np.add(val_loss,history.history['val_loss']) \n",
    "    results = model.evaluate(X_test, Y_test, verbose=0)\n",
    "    all_scores.append(results) # results has values loss and accuracy\n",
    "    \n",
    "losses = [i[0] for i in all_scores]\n",
    "acc = [i[1] for i in all_scores]\n",
    "\n",
    "kpreds = model.predict(X_test)\n",
    "kpreds = [round(i[0]) for i in kpreds]\n",
    "\n",
    "#mean metrics of evaluating the k-fold model on test data \n",
    "\n",
    "print ('mean - test loss: ',np.mean(losses),'\\n mean - test accuracy: ',np.mean(acc)) \n",
    "print (error_metrics(Y_test,np.array(kpreds)))\n",
    "\n",
    "epochs = range(1, len(loss) + 1)\n",
    "\n",
    "plt.plot(epochs, loss/4, 'bo', label='mean Training loss')\n",
    "plt.plot(epochs, val_loss/4, 'b', label='mean Validation loss')\n",
    "plt.title('Training and validation loss')\n",
    "plt.xlabel('Epochs')\n",
    "plt.ylabel('Loss')\n",
    "plt.legend()\n",
    "plt.show()"
   ]
  },
  {
   "cell_type": "markdown",
   "metadata": {},
   "source": [
    "Simple model with multiple epochs"
   ]
  },
  {
   "cell_type": "code",
   "execution_count": 95,
   "metadata": {},
   "outputs": [
    {
     "name": "stdout",
     "output_type": "stream",
     "text": [
      "(525, 10) (525,)\n",
      "(59, 10) (59,)\n",
      "Epoch 1/50\n",
      "525/525 [==============================] - 2s 4ms/step - loss: 19915254.0000 - mean_absolute_error: 3998.3787 - val_loss: 10737129.0000 - val_mean_absolute_error: 2777.1831\n",
      "Epoch 2/50\n",
      "525/525 [==============================] - 1s 3ms/step - loss: 6497329.0000 - mean_absolute_error: 2114.3416 - val_loss: 5934413.5000 - val_mean_absolute_error: 1997.7909\n",
      "Epoch 3/50\n",
      "525/525 [==============================] - 1s 3ms/step - loss: 4806733.0000 - mean_absolute_error: 1816.7378 - val_loss: 5332959.0000 - val_mean_absolute_error: 1905.3179\n",
      "Epoch 4/50\n",
      "525/525 [==============================] - 1s 3ms/step - loss: 4206682.0000 - mean_absolute_error: 1695.9426 - val_loss: 4698246.5000 - val_mean_absolute_error: 1789.6125\n",
      "Epoch 5/50\n",
      "525/525 [==============================] - 1s 3ms/step - loss: 3623417.5000 - mean_absolute_error: 1564.5710 - val_loss: 4038482.2500 - val_mean_absolute_error: 1650.8645\n",
      "Epoch 6/50\n",
      "525/525 [==============================] - 2s 3ms/step - loss: 3109828.5000 - mean_absolute_error: 1440.8169 - val_loss: 3494974.0000 - val_mean_absolute_error: 1530.7457\n",
      "Epoch 7/50\n",
      "525/525 [==============================] - 1s 3ms/step - loss: 2621831.2500 - mean_absolute_error: 1309.0596 - val_loss: 2933769.5000 - val_mean_absolute_error: 1400.5355\n",
      "Epoch 8/50\n",
      "525/525 [==============================] - 1s 3ms/step - loss: 2245289.5000 - mean_absolute_error: 1210.0935 - val_loss: 2540548.5000 - val_mean_absolute_error: 1284.4838\n",
      "Epoch 9/50\n",
      "525/525 [==============================] - 1s 3ms/step - loss: 1910338.5000 - mean_absolute_error: 1107.5884 - val_loss: 2197452.7500 - val_mean_absolute_error: 1190.2881\n",
      "Epoch 10/50\n",
      "525/525 [==============================] - 2s 3ms/step - loss: 1662566.8750 - mean_absolute_error: 1027.9799 - val_loss: 1835255.6250 - val_mean_absolute_error: 1092.9902\n",
      "Epoch 11/50\n",
      "525/525 [==============================] - 1s 3ms/step - loss: 1458071.3750 - mean_absolute_error: 961.6932 - val_loss: 1613667.8750 - val_mean_absolute_error: 1025.9272\n",
      "Epoch 12/50\n",
      "525/525 [==============================] - 2s 3ms/step - loss: 1277008.0000 - mean_absolute_error: 901.6155 - val_loss: 1400148.7500 - val_mean_absolute_error: 956.5573\n",
      "Epoch 13/50\n",
      "525/525 [==============================] - 1s 3ms/step - loss: 1127884.1250 - mean_absolute_error: 844.3201 - val_loss: 1182235.8750 - val_mean_absolute_error: 870.7558\n",
      "Epoch 14/50\n",
      "525/525 [==============================] - 2s 3ms/step - loss: 986982.1250 - mean_absolute_error: 785.2877 - val_loss: 1026591.3750 - val_mean_absolute_error: 801.8399\n",
      "Epoch 15/50\n",
      "525/525 [==============================] - 1s 3ms/step - loss: 872562.3125 - mean_absolute_error: 736.5626 - val_loss: 975493.7500 - val_mean_absolute_error: 767.8709\n",
      "Epoch 16/50\n",
      "525/525 [==============================] - 1s 3ms/step - loss: 769824.2500 - mean_absolute_error: 682.4386 - val_loss: 786780.9375 - val_mean_absolute_error: 678.2085\n",
      "Epoch 17/50\n",
      "525/525 [==============================] - 1s 3ms/step - loss: 682427.0625 - mean_absolute_error: 631.0956 - val_loss: 702520.0000 - val_mean_absolute_error: 630.1812\n",
      "Epoch 18/50\n",
      "525/525 [==============================] - 1s 3ms/step - loss: 603708.3125 - mean_absolute_error: 591.6994 - val_loss: 648513.6250 - val_mean_absolute_error: 595.3181\n",
      "Epoch 19/50\n",
      "525/525 [==============================] - 2s 3ms/step - loss: 542635.0000 - mean_absolute_error: 555.8175 - val_loss: 566325.9375 - val_mean_absolute_error: 546.1840\n",
      "Epoch 20/50\n",
      "525/525 [==============================] - 1s 3ms/step - loss: 484953.8750 - mean_absolute_error: 515.5032 - val_loss: 519361.7188 - val_mean_absolute_error: 515.7283\n",
      "Epoch 21/50\n",
      "525/525 [==============================] - 1s 3ms/step - loss: 441985.8750 - mean_absolute_error: 488.3420 - val_loss: 500497.0938 - val_mean_absolute_error: 503.9223\n",
      "Epoch 22/50\n",
      "525/525 [==============================] - 1s 3ms/step - loss: 407149.7188 - mean_absolute_error: 464.8683 - val_loss: 446422.0625 - val_mean_absolute_error: 470.1175\n",
      "Epoch 23/50\n",
      "525/525 [==============================] - 1s 3ms/step - loss: 370276.9062 - mean_absolute_error: 440.0947 - val_loss: 426575.0312 - val_mean_absolute_error: 457.9745\n",
      "Epoch 24/50\n",
      "525/525 [==============================] - 1s 3ms/step - loss: 345228.9062 - mean_absolute_error: 425.7662 - val_loss: 400362.8750 - val_mean_absolute_error: 441.7436\n",
      "Epoch 25/50\n",
      "525/525 [==============================] - 1s 3ms/step - loss: 321240.6250 - mean_absolute_error: 408.8269 - val_loss: 365990.0625 - val_mean_absolute_error: 420.0983\n",
      "Epoch 26/50\n",
      "525/525 [==============================] - 1s 3ms/step - loss: 306644.0312 - mean_absolute_error: 397.4251 - val_loss: 350364.2812 - val_mean_absolute_error: 411.1250\n",
      "Epoch 27/50\n",
      "525/525 [==============================] - 1s 3ms/step - loss: 286987.9688 - mean_absolute_error: 387.2632 - val_loss: 366151.2188 - val_mean_absolute_error: 422.3503\n",
      "Epoch 28/50\n",
      "525/525 [==============================] - 1s 3ms/step - loss: 273765.6562 - mean_absolute_error: 374.2278 - val_loss: 335050.1562 - val_mean_absolute_error: 401.4558\n",
      "Epoch 29/50\n",
      "525/525 [==============================] - 1s 3ms/step - loss: 266684.9375 - mean_absolute_error: 371.6833 - val_loss: 310265.8750 - val_mean_absolute_error: 384.1171\n",
      "Epoch 30/50\n",
      "525/525 [==============================] - 1s 3ms/step - loss: 255966.2344 - mean_absolute_error: 366.6898 - val_loss: 312505.1875 - val_mean_absolute_error: 381.1410\n",
      "Epoch 31/50\n",
      "525/525 [==============================] - 1s 3ms/step - loss: 248628.2656 - mean_absolute_error: 359.6742 - val_loss: 295984.9688 - val_mean_absolute_error: 368.8902\n",
      "Epoch 32/50\n",
      "525/525 [==============================] - 1s 3ms/step - loss: 236080.9219 - mean_absolute_error: 350.3920 - val_loss: 300467.2812 - val_mean_absolute_error: 374.4072\n",
      "Epoch 33/50\n",
      "525/525 [==============================] - 2s 3ms/step - loss: 234869.5781 - mean_absolute_error: 349.3074 - val_loss: 284415.6250 - val_mean_absolute_error: 374.3864\n",
      "Epoch 34/50\n",
      "525/525 [==============================] - 1s 3ms/step - loss: 224096.6875 - mean_absolute_error: 338.9353 - val_loss: 273925.8438 - val_mean_absolute_error: 362.5917\n",
      "Epoch 35/50\n",
      "525/525 [==============================] - 1s 3ms/step - loss: 221430.6406 - mean_absolute_error: 341.3372 - val_loss: 265556.8125 - val_mean_absolute_error: 350.5595\n",
      "Epoch 36/50\n",
      "525/525 [==============================] - 1s 3ms/step - loss: 218425.4688 - mean_absolute_error: 334.2850 - val_loss: 259670.9531 - val_mean_absolute_error: 350.7442\n",
      "Epoch 37/50\n",
      "525/525 [==============================] - 1s 3ms/step - loss: 216017.5781 - mean_absolute_error: 331.2965 - val_loss: 254748.5781 - val_mean_absolute_error: 342.6433\n",
      "Epoch 38/50\n",
      "525/525 [==============================] - 1s 3ms/step - loss: 212426.3125 - mean_absolute_error: 330.1017 - val_loss: 249112.9375 - val_mean_absolute_error: 341.6269\n",
      "Epoch 39/50\n",
      "525/525 [==============================] - 1s 3ms/step - loss: 203205.0938 - mean_absolute_error: 327.1032 - val_loss: 247753.5781 - val_mean_absolute_error: 345.8221\n",
      "Epoch 40/50\n",
      "525/525 [==============================] - 1s 3ms/step - loss: 201307.6250 - mean_absolute_error: 318.9989 - val_loss: 254709.6094 - val_mean_absolute_error: 362.9995\n",
      "Epoch 41/50\n",
      "525/525 [==============================] - 1s 3ms/step - loss: 199985.3750 - mean_absolute_error: 320.6769 - val_loss: 236660.6719 - val_mean_absolute_error: 335.6926\n",
      "Epoch 42/50\n",
      "525/525 [==============================] - 1s 3ms/step - loss: 193895.4062 - mean_absolute_error: 318.1828 - val_loss: 240089.5625 - val_mean_absolute_error: 328.5145\n",
      "Epoch 43/50\n",
      "525/525 [==============================] - 1s 3ms/step - loss: 189688.9219 - mean_absolute_error: 312.7832 - val_loss: 228460.7656 - val_mean_absolute_error: 326.7340\n",
      "Epoch 44/50\n",
      "525/525 [==============================] - 2s 3ms/step - loss: 191264.6406 - mean_absolute_error: 311.2718 - val_loss: 235824.4531 - val_mean_absolute_error: 327.1333\n",
      "Epoch 45/50\n",
      "525/525 [==============================] - 1s 3ms/step - loss: 184912.7812 - mean_absolute_error: 310.4336 - val_loss: 222132.1406 - val_mean_absolute_error: 329.0320\n",
      "Epoch 46/50\n"
     ]
    },
    {
     "name": "stdout",
     "output_type": "stream",
     "text": [
      "525/525 [==============================] - 1s 3ms/step - loss: 180835.3125 - mean_absolute_error: 307.5243 - val_loss: 215835.4219 - val_mean_absolute_error: 309.2063\n",
      "Epoch 47/50\n",
      "525/525 [==============================] - 1s 3ms/step - loss: 181060.2812 - mean_absolute_error: 304.4526 - val_loss: 210211.8281 - val_mean_absolute_error: 306.8563\n",
      "Epoch 48/50\n",
      "525/525 [==============================] - 1s 3ms/step - loss: 179082.5781 - mean_absolute_error: 301.0891 - val_loss: 213733.2812 - val_mean_absolute_error: 326.3940\n",
      "Epoch 49/50\n",
      "525/525 [==============================] - 1s 3ms/step - loss: 173351.8125 - mean_absolute_error: 300.3518 - val_loss: 204427.6875 - val_mean_absolute_error: 305.7567\n",
      "Epoch 50/50\n",
      "525/525 [==============================] - 1s 3ms/step - loss: 172702.3594 - mean_absolute_error: 296.9833 - val_loss: 200840.4375 - val_mean_absolute_error: 298.3261\n",
      "5/5 [==============================] - 0s 4ms/step - loss: 162907.3438 - mean_absolute_error: 295.4814\n",
      "loss :  162907.34375\n",
      "mean_absolute_error :  295.4814453125\n",
      "[6720.0, 5919.0, 2043.0, 1839.0, 4439.0, 5000.0, 2449.0, 7105.0, 3547.0, 2555.0, 1675.0, 5208.0, 6713.0, 7172.0, 4136.0, 5312.0, 6014.0, 7165.0, 5092.0, 3173.0, 4032.0, 1765.0, 4021.0, 7376.0, 4425.0, 4898.0, 4815.0, 5727.0, 654.0, 8262.0, 3976.0, 1076.0, 2589.0, 5532.0, 4024.0, 3386.0, 3501.0, 6666.0, 2215.0, 5627.0, 6019.0, 2806.0, 2281.0, 6499.0, 5109.0, 428.0, 3829.0, 7772.0, 4931.0, 2185.0, 5425.0, 2767.0, 4291.0, 1807.0, 5221.0, 5572.0, 7161.0, 1350.0, 2865.0, 2621.0, 4106.0, 1848.0, 3798.0, 4383.0, 3743.0, 6832.0, 2976.0, 7187.0, 4835.0, 7108.0, 2978.0, 4936.0, 4860.0, 4382.0, 2209.0, 2964.0, 2782.0, 7851.0, 6491.0, 7898.0, 1384.0, 5357.0, 3639.0, 2334.0, 4095.0, 4792.0, 5123.0, 6060.0, 3099.0, 1462.0, 1357.0, 7038.0, 7174.0, 7096.0, 2068.0, 6272.0, 6301.0, 6445.0, 790.0, 4614.0, 5086.0, 7490.0, 7027.0, 7378.0, 2504.0, 7658.0, 4420.0, 2802.0, 7144.0, 4392.0, 6922.0, 4559.0, 4093.0, 4773.0, 1315.0, 3842.0, 1239.0, 6789.0, 4528.0, 4289.0, 3365.0, 4734.0, 7071.0, 4281.0, 5092.0, 6726.0, 7109.0, 6252.0, 6361.0, 2569.0, 6597.0, 7047.0, 3427.0, 6964.0, 5795.0, 4116.0, 6754.0, 4787.0, 2708.0, 4788.0, 5212.0, 911.0, 7055.0, 3459.0, 2740.0, 5611.0, 4574.0]\n",
      "RMSE = 403.62875277664153\n",
      "MAPE:  19.2068736867437\n",
      "MAE:  295.4761904761905\n",
      "R-square Score(coefficient of determination) = 0.9581419783468383\n"
     ]
    },
    {
     "data": {
      "image/png": "[encoded data removed]",
      "text/plain": [
       "<Figure size 432x288 with 1 Axes>"
      ]
     },
     "metadata": {
      "needs_background": "light"
     },
     "output_type": "display_data"
    }
   ],
   "source": [
    "# testing how the individual model with sample parameters scores on test data\n",
    "\n",
    "ptrain_data ,x_val,ptrain_targets,y_val = train_test_split(X_train,Y_train,test_size=0.1,random_state=42)\n",
    "print (ptrain_data.shape ,ptrain_targets.shape)\n",
    "print (x_val.shape,y_val.shape)\n",
    "\n",
    "model = build_model()\n",
    "history = model.fit(ptrain_data,ptrain_targets,batch_size=1,epochs=50,validation_data=(x_val, y_val))\n",
    "\n",
    "preds = model.predict(X_test)\n",
    "test_results = model.evaluate(X_test,Y_test)\n",
    "for i in range(len(test_results)):\n",
    "    print (model.metrics_names[i],': ',test_results[i])\n",
    "\n",
    "preds = [round(i[0]) for i in preds]\n",
    "print (preds)\n",
    "\n",
    "error_metrics(Y_test,np.array(preds))\n",
    "\n",
    "import matplotlib.pyplot as plt\n",
    "loss = history.history['loss']\n",
    "val_loss = history.history['val_loss']\n",
    "epochs = range(1, len(loss) + 1)\n",
    "plt.plot(epochs, loss, 'bo', label='Training loss')\n",
    "plt.plot(epochs, val_loss, 'b', label='Validation loss')\n",
    "plt.title('Training and validation loss')\n",
    "plt.xlabel('Epochs')\n",
    "plt.ylabel('Loss')\n",
    "plt.legend()\n",
    "plt.show()"
   ]
  },
  {
   "cell_type": "markdown",
   "metadata": {},
   "source": [
    "### Conclusion"
   ]
  },
  {
   "cell_type": "markdown",
   "metadata": {
    "collapsed": true
   },
   "source": [
    "From all the models used above Linear Regression, Random Forests & Decision trees have a very good R2 score with lower error metrics than others.<br>\n",
    "<br>\n",
    "Random Forests: <br>\n",
    "RMSE = 152.81675075358837 <br>\n",
    "MAPE:  5.090485546730902 <br>\n",
    "MAE:  92.38782312925167 <br>\n",
    "R-square Score(coefficient of determination) = 0.9939999284534357 <br>\n",
    "<br>\n",
    "Linear regression: <br>\n",
    "RMSE = 172.52389891665496 <br>\n",
    "MAPE:  4.079850483296055 <br>\n",
    "MAE:  88.05670433915783 <br>\n",
    "R-square Score(coefficient of determination) = 0.9923526135872385 <br>\n",
    "<br>\n",
    "Linear regression & random Forests have slight difference with one having lower MAPE, MAE and a higher RMSE with the other have the opposite.<br>\n",
    "I though think Random Forests is better because of it's higher R2 score."
   ]
  }
 ],
 "metadata": {
  "kernelspec": {
   "display_name": "Python 3",
   "language": "python",
   "name": "python3"
  },
  "language_info": {
   "codemirror_mode": {
    "name": "ipython",
    "version": 3
   },
   "file_extension": ".py",
   "mimetype": "text/x-python",
   "name": "python",
   "nbconvert_exporter": "python",
   "pygments_lexer": "ipython3",
   "version": "3.7.2"
  }
 },
 "nbformat": 4,
 "nbformat_minor": 2
}
